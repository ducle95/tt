{
 "cells": [
  {
   "cell_type": "code",
   "execution_count": 4,
   "id": "34a3c64a-5885-456a-be97-d1e1a726e2b9",
   "metadata": {},
   "outputs": [
    {
     "name": "stdout",
     "output_type": "stream",
     "text": [
      "1,2,3,4,5\n"
     ]
    }
   ],
   "source": [
    "print(1,2,3,4,5,sep = ',')"
   ]
  },
  {
   "cell_type": "code",
   "execution_count": 7,
   "id": "201e282d-b4c3-47d0-ba85-4b3897a410e2",
   "metadata": {},
   "outputs": [
    {
     "name": "stdout",
     "output_type": "stream",
     "text": [
      "number_max in list:  10\n"
     ]
    }
   ],
   "source": [
    "'''\n",
    "find max number in list\n",
    "'''\n",
    "lis_number= [4,6,1,5,8,10,5]\n",
    "number_max = lis_number[0]\n",
    "for i in lis_number:\n",
    "    if number_max < i:\n",
    "        number_max =i\n",
    "print('number_max in list: ', number_max)"
   ]
  },
  {
   "cell_type": "code",
   "execution_count": 10,
   "id": "c5b55b41-7e0f-41a1-8c5f-7fa7c99da338",
   "metadata": {},
   "outputs": [
    {
     "name": "stdout",
     "output_type": "stream",
     "text": [
      "[0, 2, 4, 6, 8]\n"
     ]
    },
    {
     "data": {
      "text/plain": [
       "range"
      ]
     },
     "execution_count": 10,
     "metadata": {},
     "output_type": "execute_result"
    }
   ],
   "source": [
    "print(list(range(0,10,2)))\n",
    "type(range(0,10,2))"
   ]
  },
  {
   "cell_type": "code",
   "execution_count": 10,
   "id": "5a26909e-b549-46f6-a62a-ab94593d2511",
   "metadata": {},
   "outputs": [
    {
     "name": "stdout",
     "output_type": "stream",
     "text": [
      "lisst_letter_join: GumayusiisthebestADCofTTeam\n",
      "list_number_join: 1\n"
     ]
    }
   ],
   "source": [
    "number_r = 'Gumayusi is the best ADC of T1 Team'\n",
    "list_number=[]\n",
    "lisst_letter=[]\n",
    "for i in number_r:\n",
    "    if i.isdigit():\n",
    "        list_number.append(i)\n",
    "        list_number_join =''.join(list_number)\n",
    "    elif(i.isalpha()):\n",
    "        lisst_letter.append(i)\n",
    "        lisst_letter_join =''.join(lisst_letter)\n",
    "print ('lisst_letter_join:', (lisst_letter_join))\n",
    "print ('list_number_join:', list_number_join)\n",
    "        "
   ]
  },
  {
   "cell_type": "code",
   "execution_count": 5,
   "id": "2d6cb41a-0649-4b1c-94c6-e30a5ad47307",
   "metadata": {},
   "outputs": [
    {
     "name": "stdin",
     "output_type": "stream",
     "text": [
      "Enter Celcius Degree:  \n",
      "Enter Celcius Degree:  \n",
      "Enter Celcius Degree:  -50\n"
     ]
    },
    {
     "name": "stdout",
     "output_type": "stream",
     "text": [
      "-50.0 Celcius Degree = 223.155 Kelvin Degree\n"
     ]
    }
   ],
   "source": [
    "'''\n",
    "Convert Celcius Degree to Kelvin Degree\n",
    "'''\n",
    "def convertC2FDegree(cDegree):\n",
    "    return round(cDegree +273.155,3)\n",
    "\n",
    "def printKDegree(cDegree,kDegree):\n",
    "    print(f\"{cDegree} Celcius Degree = {kDegree} Kelvin Degree\")\n",
    "\n",
    "while(True):\n",
    "    cDegree = input(\"Enter Celcius Degree: \")\n",
    "    if(cDegree):  \n",
    "        cDegree = float(cDegree)\n",
    "        kDegree = convertC2FDegree(cDegree)\n",
    "        printKDegree(cDegree,kDegree)\n",
    "        break"
   ]
  },
  {
   "cell_type": "code",
   "execution_count": 11,
   "id": "a9d92a8f-e2f9-4728-ab68-25df58eb587a",
   "metadata": {},
   "outputs": [
    {
     "name": "stdout",
     "output_type": "stream",
     "text": [
      "I'm Hero\n"
     ]
    }
   ],
   "source": [
    "print(\"I'm Hero\")"
   ]
  },
  {
   "cell_type": "code",
   "execution_count": 13,
   "id": "fe66a325-10ca-49f0-8e11-e99b82462dc8",
   "metadata": {},
   "outputs": [
    {
     "name": "stdout",
     "output_type": "stream",
     "text": [
      "Hello World\n"
     ]
    }
   ],
   "source": [
    "my_string = 'Hello World'\n",
    "sub_string = my_string[::1]\n",
    "print(sub_string)"
   ]
  },
  {
   "cell_type": "code",
   "execution_count": 32,
   "id": "b594d4e2-dcdc-49bd-86ba-63a1abe9494c",
   "metadata": {},
   "outputs": [
    {
     "name": "stdin",
     "output_type": "stream",
     "text": [
      "Please Enter length password: 10\n"
     ]
    },
    {
     "name": "stdout",
     "output_type": "stream",
     "text": [
      "Your Password Gennerator is A\\6#)C3f!4\n"
     ]
    },
    {
     "data": {
      "text/plain": [
       "True"
      ]
     },
     "execution_count": 32,
     "metadata": {},
     "output_type": "execute_result"
    }
   ],
   "source": [
    "'''\n",
    "random password gennerator\n",
    "require: string lib, random lib\n",
    "'''\n",
    "import string \n",
    "import random\n",
    "\n",
    "def random_pasword_gennerator(length=8):\n",
    "    ASCII_LETTERS = string.ascii_letters\n",
    "    DIGITS = string.digits\n",
    "    PUNCTUATION = string.punctuation\n",
    "    #print(f'ASCII_LETTERS: {ASCII_LETTERS}') \n",
    "    #print(f'DIGITS: {DIGITS}') \n",
    "    #print(f'PUNCTUATION: {PUNCTUATION}') \n",
    "    random_pass_str = ASCII_LETTERS + DIGITS + PUNCTUATION\n",
    "    #print(type(random_pass))\n",
    "    random_pass_list = list(random_pass_str)\n",
    "    random.shuffle(random_pass_list)\n",
    "    random_pas = random.choices(random_pass_list, k = length)\n",
    "    random_pas = ''.join(random_pas)\n",
    "    #print(type(random_pass_list))\n",
    "    #print(f'random_pas: {random_pas}') \n",
    "    return random_pas\n",
    " \n",
    "def length_pasword():\n",
    "    length = int(input('Please Enter length password:'))\n",
    "    return length\n",
    "\n",
    "def print_password_generator(random_pas):\n",
    "    print(f'Your Password Gennerator is {random_pas}')\n",
    "    return True\n",
    "\n",
    "length = length_pasword()\n",
    "random_pas = random_pasword_gennerator(length)\n",
    "print_password_generator(random_pas)\n",
    "\n"
   ]
  },
  {
   "cell_type": "code",
   "execution_count": 35,
   "id": "cedabed5-1266-418d-be5b-cab4a546e3a4",
   "metadata": {},
   "outputs": [
    {
     "name": "stdout",
     "output_type": "stream",
     "text": [
      "[1, 2, 3, 3, 4, 5, 5, 6, 87]\n",
      "my_list_reverse: [87, 5, 4, 3, 6, 5, 3, 2, 1]\n",
      "my_list: [1, 2, 3, 5, 6, 3, 4, 5, 87]\n"
     ]
    }
   ],
   "source": [
    "my_list = [1,2,3,5,6,3,4,5,87]\n",
    "print(sorted(my_list))\n",
    "my_list_reverse = my_list[::-1]\n",
    "print(f'my_list_reverse: {my_list_reverse}')\n",
    "print(f'my_list: {my_list}')"
   ]
  },
  {
   "cell_type": "code",
   "execution_count": 45,
   "id": "3f07440d-e3f7-4ff7-8d19-c6794dd046df",
   "metadata": {},
   "outputs": [
    {
     "data": {
      "text/plain": [
       "False"
      ]
     },
     "execution_count": 45,
     "metadata": {},
     "output_type": "execute_result"
    }
   ],
   "source": [
    "'''\n",
    "Leetcode : check vavid palindrome\n",
    "'''\n",
    "def check_valid_palidrome(my_str):\n",
    "    result =[]\n",
    "    if my_str:\n",
    "        for c in my_str.lower():\n",
    "            if c.isalnum:\n",
    "                result.append(c)\n",
    "        if (result == result[::-1]):\n",
    "            return True\n",
    "        else:\n",
    "            return False\n",
    "    else: \n",
    "        return True\n",
    "    \n",
    "    \n",
    "my_str = 'abca'\n",
    "check_valid_palidrome(my_str)"
   ]
  },
  {
   "cell_type": "code",
   "execution_count": 49,
   "id": "76418c41-b465-4fa6-9db9-43df3f681257",
   "metadata": {},
   "outputs": [
    {
     "name": "stdout",
     "output_type": "stream",
     "text": [
      "[0, 10, 20, 30, 40, 50, 60, 70, 80, 90]\n"
     ]
    }
   ],
   "source": [
    "'''\n",
    "list comprehension\n",
    "'''\n",
    "my_list = [i for i in range(100) if i%10 == 0]\n",
    "print(my_list)"
   ]
  },
  {
   "cell_type": "code",
   "execution_count": 57,
   "id": "92d35f17-4a6a-441e-b4c1-2d1329863a04",
   "metadata": {},
   "outputs": [
    {
     "name": "stdout",
     "output_type": "stream",
     "text": [
      "1. Mango has price 5 USD\n",
      "2. Apple has price 6 USD\n",
      "3. Banana has price 2 USD\n"
     ]
    }
   ],
   "source": [
    "'''\n",
    "zip()\n",
    "'''\n",
    "\n",
    "my_list1 = ['Mango','Apple','Banana']\n",
    "my_list2 = [5,6,2]\n",
    "my_zip = zip(my_list1 , my_list2)\n",
    "for index,(fruit,price) in enumerate(my_zip):\n",
    "    print(f'{index+1}. {fruit} has price {price} USD')\n"
   ]
  },
  {
   "cell_type": "code",
   "execution_count": 65,
   "id": "56881c16-2c7d-4022-88a9-ebadaf14a036",
   "metadata": {},
   "outputs": [
    {
     "data": {
      "text/plain": [
       "9"
      ]
     },
     "execution_count": 65,
     "metadata": {},
     "output_type": "execute_result"
    }
   ],
   "source": [
    "my_string = \"hello world duc  \"\n",
    "\n",
    "def count_dif_charactor(my_string):\n",
    "    result =0;\n",
    "    my_string = my_string.replace(' ','')\n",
    "    my_set = set(my_string)\n",
    "    result = len(my_set)\n",
    "    return result\n",
    "\n",
    "\n",
    "count_dif_charactor(my_string)"
   ]
  },
  {
   "cell_type": "code",
   "execution_count": 8,
   "id": "b26fc5da-41d3-442b-9894-d90c4d1ed7af",
   "metadata": {},
   "outputs": [
    {
     "name": "stdout",
     "output_type": "stream",
     "text": [
      "number_right: 128\n"
     ]
    },
    {
     "name": "stdin",
     "output_type": "stream",
     "text": [
      "Please Enter Guess Number:  120\n"
     ]
    },
    {
     "name": "stdout",
     "output_type": "stream",
     "text": [
      "Number Guess < Number Right\n"
     ]
    },
    {
     "name": "stdin",
     "output_type": "stream",
     "text": [
      "Please Enter Guess Number:  130\n"
     ]
    },
    {
     "name": "stdout",
     "output_type": "stream",
     "text": [
      "Number Guess > Number Right\n"
     ]
    },
    {
     "name": "stdin",
     "output_type": "stream",
     "text": [
      "Please Enter Guess Number:  128\n"
     ]
    },
    {
     "name": "stdout",
     "output_type": "stream",
     "text": [
      "You guess right time 3, number_guess: 128\n"
     ]
    }
   ],
   "source": [
    "'''\n",
    "guess number in a ranger\n",
    "'''\n",
    "import random as rd\n",
    "number_right = rd.randint(0,200)\n",
    "print(f'number_right: {number_right}')\n",
    "time_guess =0\n",
    "while(True):\n",
    "    number_guess = int(input(\"Please Enter Guess Number: \"))\n",
    "    time_guess+=1\n",
    "    if(number_guess == number_right):\n",
    "        print(f'You guess right time {time_guess}, number_guess: {number_guess}')\n",
    "        break\n",
    "    elif(number_guess > number_right):\n",
    "        print('Number Guess > Number Right')\n",
    "    else:\n",
    "        print('Number Guess < Number Right')\n",
    "    if(time_guess ==5):\n",
    "        print(\"You Lose\")\n",
    "        break"
   ]
  },
  {
   "cell_type": "code",
   "execution_count": null,
   "id": "0aa218ca-7c69-46b7-9c97-96a09e2aa4dd",
   "metadata": {},
   "outputs": [],
   "source": []
  },
  {
   "cell_type": "code",
   "execution_count": null,
   "id": "5580aedf-beb6-4c49-82bb-60bf503aad5e",
   "metadata": {},
   "outputs": [],
   "source": []
  },
  {
   "cell_type": "code",
   "execution_count": null,
   "id": "60299c18-2276-4ba6-bbbf-5969acaea22a",
   "metadata": {},
   "outputs": [],
   "source": []
  }
 ],
 "metadata": {
  "kernelspec": {
   "display_name": "Python 3 (ipykernel)",
   "language": "python",
   "name": "python3"
  },
  "language_info": {
   "codemirror_mode": {
    "name": "ipython",
    "version": 3
   },
   "file_extension": ".py",
   "mimetype": "text/x-python",
   "name": "python",
   "nbconvert_exporter": "python",
   "pygments_lexer": "ipython3",
   "version": "3.9.7"
  }
 },
 "nbformat": 4,
 "nbformat_minor": 5
}
