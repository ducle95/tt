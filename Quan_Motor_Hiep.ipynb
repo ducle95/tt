{
 "cells": [
  {
   "cell_type": "code",
   "execution_count": null,
   "id": "5f6efa6b-d265-452e-84ad-1f8de4dab7f8",
   "metadata": {},
   "outputs": [],
   "source": [
    "# read file excel \n",
    "'''\n",
    "Đọc số lượng tồn kho của các loại cáp\n",
    "'''\n",
    "def read_inventory_number():\n",
    "    pass"
   ]
  },
  {
   "cell_type": "code",
   "execution_count": null,
   "id": "3e68b3b6-289a-4a25-83e3-f7a571ad9f07",
   "metadata": {},
   "outputs": [],
   "source": [
    "# chuyển đổi cách quấn hiện tại qua 4 phương pháp quấn khác nhau\n",
    "'''\n",
    "input: Công suất, số lượng mét cáp, tiết diện cáp của cách quấn cũ, công thức chuyển đổi\n",
    "output: tiết diện dây quấn theo 4 phương pháp quấn khác nhau\n",
    "'''\n"
   ]
  },
  {
   "cell_type": "code",
   "execution_count": null,
   "id": "1ef9a957-ecf0-4d58-b22d-8711fd831480",
   "metadata": {},
   "outputs": [],
   "source": [
    "'''\n",
    "Kiểm tra, so sánh số lượng tồn kho, sai số = 0.2 mm2\n",
    "tính toán lại công suất or chiều dài dây quấn, sai số nếu sai khác về tiết diện\n",
    "Update thông tin nếu cần\n",
    "'''"
   ]
  },
  {
   "cell_type": "code",
   "execution_count": null,
   "id": "05074d19-55c0-4923-84db-b0519eb19bec",
   "metadata": {},
   "outputs": [],
   "source": []
  },
  {
   "cell_type": "code",
   "execution_count": null,
   "id": "90852efb-5afb-4aa9-b528-9fba70d1894c",
   "metadata": {},
   "outputs": [],
   "source": []
  }
 ],
 "metadata": {
  "kernelspec": {
   "display_name": "Python 3 (ipykernel)",
   "language": "python",
   "name": "python3"
  },
  "language_info": {
   "codemirror_mode": {
    "name": "ipython",
    "version": 3
   },
   "file_extension": ".py",
   "mimetype": "text/x-python",
   "name": "python",
   "nbconvert_exporter": "python",
   "pygments_lexer": "ipython3",
   "version": "3.9.7"
  }
 },
 "nbformat": 4,
 "nbformat_minor": 5
}
